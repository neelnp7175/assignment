{
 "cells": [
  {
   "cell_type": "code",
   "execution_count": 6,
   "id": "46705464",
   "metadata": {},
   "outputs": [
    {
     "name": "stdout",
     "output_type": "stream",
     "text": [
      "{'brand': 'Ford', 'model': 'Mustang', 'year': 1964}\n"
     ]
    }
   ],
   "source": [
    "thislist ={\n",
    "    \"brand\": \"Ford\",\n",
    "  \"model\": \"Mustang\",\n",
    "  \"year\": 1964\n",
    "}\n",
    "print (thislist)"
   ]
  },
  {
   "cell_type": "code",
   "execution_count": 7,
   "id": "cacc4ad6",
   "metadata": {},
   "outputs": [
    {
     "data": {
      "text/plain": [
       "'Mustang'"
      ]
     },
     "execution_count": 7,
     "metadata": {},
     "output_type": "execute_result"
    }
   ],
   "source": [
    "thislist.get(\"model\")"
   ]
  },
  {
   "cell_type": "code",
   "execution_count": 10,
   "id": "ce605a53",
   "metadata": {},
   "outputs": [
    {
     "name": "stdout",
     "output_type": "stream",
     "text": [
      "{'brand': 'Ford', 'model': 'Mustang', 'year': 1898}\n"
     ]
    }
   ],
   "source": [
    "thislist[\"year\"]=1898\n",
    "print(thislist)"
   ]
  },
  {
   "cell_type": "code",
   "execution_count": 17,
   "id": "23c45337",
   "metadata": {},
   "outputs": [
    {
     "data": {
      "text/plain": [
       "list"
      ]
     },
     "execution_count": 17,
     "metadata": {},
     "output_type": "execute_result"
    }
   ],
   "source": [
    "list"
   ]
  },
  {
   "cell_type": "code",
   "execution_count": 18,
   "id": "d324e930",
   "metadata": {},
   "outputs": [
    {
     "data": {
      "text/plain": [
       "[5, 7, 8, 9]"
      ]
     },
     "execution_count": 18,
     "metadata": {},
     "output_type": "execute_result"
    }
   ],
   "source": [
    "ikj=[5,7,8,9]\n",
    "ikj"
   ]
  },
  {
   "cell_type": "code",
   "execution_count": 19,
   "id": "e3df3dbc",
   "metadata": {},
   "outputs": [
    {
     "data": {
      "text/plain": [
       "[5, 7, 8, 9]"
      ]
     },
     "execution_count": 19,
     "metadata": {},
     "output_type": "execute_result"
    }
   ],
   "source": [
    "ikj.sort()\n",
    "ikj"
   ]
  },
  {
   "cell_type": "code",
   "execution_count": 20,
   "id": "6c4ef1ea",
   "metadata": {},
   "outputs": [
    {
     "data": {
      "text/plain": [
       "[9, 8, 7, 5]"
      ]
     },
     "execution_count": 20,
     "metadata": {},
     "output_type": "execute_result"
    }
   ],
   "source": [
    "ikj.sort(reverse = True)\n",
    "ikj"
   ]
  },
  {
   "cell_type": "code",
   "execution_count": 24,
   "id": "5f2adb97",
   "metadata": {},
   "outputs": [
    {
     "data": {
      "text/plain": [
       "[9, 8, 7]"
      ]
     },
     "execution_count": 24,
     "metadata": {},
     "output_type": "execute_result"
    }
   ],
   "source": [
    "ikj.remove(5)\n",
    "ikj"
   ]
  },
  {
   "cell_type": "code",
   "execution_count": 14,
   "id": "f3fcf49f",
   "metadata": {},
   "outputs": [
    {
     "name": "stdout",
     "output_type": "stream",
     "text": [
      "4\n",
      "jkj\n",
      "<class 'str'>\n"
     ]
    }
   ],
   "source": [
    "HII =(4)\n",
    "kj=(\"jkj\")\n",
    "print(HII)\n",
    "print(kj)\n",
    "print(type(kj))"
   ]
  },
  {
   "cell_type": "code",
   "execution_count": 9,
   "id": "159bfa0e",
   "metadata": {},
   "outputs": [
    {
     "name": "stdout",
     "output_type": "stream",
     "text": [
      "my name ishiii\n"
     ]
    }
   ],
   "source": [
    "x= \"hiii\"\n",
    "def myfunc():\n",
    "    print(\"my name is\" + x)\n",
    "myfunc()\n",
    "    "
   ]
  },
  {
   "cell_type": "code",
   "execution_count": 13,
   "id": "680285b4",
   "metadata": {},
   "outputs": [
    {
     "name": "stdout",
     "output_type": "stream",
     "text": [
      "mi is jgng\n"
     ]
    }
   ],
   "source": [
    "n =\"jgng\"\n",
    "def myfunc():\n",
    "    print(\"mi is \"+ n)\n",
    "myfunc()\n",
    "# global vaeribal"
   ]
  },
  {
   "cell_type": "code",
   "execution_count": 19,
   "id": "cfc9c92c",
   "metadata": {},
   "outputs": [
    {
     "name": "stdout",
     "output_type": "stream",
     "text": [
      "<class 'int'>\n",
      "<class 'float'>\n",
      "<class 'complex'>\n"
     ]
    }
   ],
   "source": [
    "a=8\n",
    "b= 9.9\n",
    "c= 1j \n",
    "print(type(a))\n",
    "print(type(b))\n",
    "print(type(c))\n"
   ]
  },
  {
   "cell_type": "code",
   "execution_count": 20,
   "id": "0136d429",
   "metadata": {},
   "outputs": [
    {
     "name": "stdout",
     "output_type": "stream",
     "text": [
      "9\n",
      "5\n",
      "8\n"
     ]
    }
   ],
   "source": [
    "x=int(9.9)\n",
    "y=int(5)\n",
    "z=int(\"8\")\n",
    "print(x)\n",
    "print(y)\n",
    "print(z)\n",
    "#casting"
   ]
  },
  {
   "cell_type": "code",
   "execution_count": 24,
   "id": "f9f8db21",
   "metadata": {},
   "outputs": [
    {
     "name": "stdout",
     "output_type": "stream",
     "text": [
      "\n"
     ]
    }
   ],
   "source": [
    "x=int(9.9)\n",
    "y=float (5)\n",
    "z= str(\"8\")\n",
    "print()\n",
    "#casting"
   ]
  },
  {
   "cell_type": "code",
   "execution_count": 26,
   "id": "7953bc73",
   "metadata": {},
   "outputs": [
    {
     "name": "stdout",
     "output_type": "stream",
     "text": [
      "heelo world\n"
     ]
    }
   ],
   "source": [
    "#string \n",
    "a = \"heelo world\"\n",
    "print(a)"
   ]
  },
  {
   "cell_type": "code",
   "execution_count": 28,
   "id": "5bc74d44",
   "metadata": {},
   "outputs": [
    {
     "name": "stdout",
     "output_type": "stream",
     "text": [
      "nivf hium dkanbm nqjbdj jhdqbsq kjiohq jhdndwb jbw du\n"
     ]
    }
   ],
   "source": [
    "#string \n",
    "a = \"\"\"nivf hium dkanbm nqjbdj jhdqbsq kjiohq jhdndwb jbw du\"\"\"\n",
    "print(a)\n"
   ]
  },
  {
   "cell_type": "code",
   "execution_count": 30,
   "id": "f64474ab",
   "metadata": {},
   "outputs": [
    {
     "name": "stdout",
     "output_type": "stream",
     "text": [
      "j ejk kdnk d\n"
     ]
    }
   ],
   "source": [
    "#string \n",
    "w ='''j ejk kdnk d'''\n",
    "print(w)"
   ]
  },
  {
   "cell_type": "code",
   "execution_count": 31,
   "id": "76cfc82c",
   "metadata": {},
   "outputs": [
    {
     "name": "stdout",
     "output_type": "stream",
     "text": [
      "k\n"
     ]
    }
   ],
   "source": [
    "print(w[4])"
   ]
  },
  {
   "cell_type": "code",
   "execution_count": 32,
   "id": "f255b655",
   "metadata": {},
   "outputs": [
    {
     "name": "stdout",
     "output_type": "stream",
     "text": [
      "12\n"
     ]
    }
   ],
   "source": [
    "print(len (w))"
   ]
  },
  {
   "cell_type": "code",
   "execution_count": 36,
   "id": "ae5ea18d",
   "metadata": {},
   "outputs": [
    {
     "name": "stdout",
     "output_type": "stream",
     "text": [
      "llo \n"
     ]
    }
   ],
   "source": [
    "w= \"hello world\"\n",
    "print(w[2:6])\n"
   ]
  },
  {
   "cell_type": "code",
   "execution_count": 37,
   "id": "0fdeb2ac",
   "metadata": {},
   "outputs": [
    {
     "name": "stdout",
     "output_type": "stream",
     "text": [
      "he\n"
     ]
    }
   ],
   "source": [
    "print(w[:2])"
   ]
  },
  {
   "cell_type": "code",
   "execution_count": 38,
   "id": "08d8a7ba",
   "metadata": {},
   "outputs": [
    {
     "name": "stdout",
     "output_type": "stream",
     "text": [
      " world\n"
     ]
    }
   ],
   "source": [
    "print(w[5:])"
   ]
  },
  {
   "cell_type": "code",
   "execution_count": 42,
   "id": "6da84fc9",
   "metadata": {},
   "outputs": [
    {
     "name": "stdout",
     "output_type": "stream",
     "text": [
      "rl\n"
     ]
    }
   ],
   "source": [
    "print(w[-3:-1])"
   ]
  },
  {
   "cell_type": "code",
   "execution_count": 45,
   "id": "82e1d26b",
   "metadata": {},
   "outputs": [
    {
     "name": "stdout",
     "output_type": "stream",
     "text": [
      "HELLO WORLD\n"
     ]
    }
   ],
   "source": [
    "w= \"hello world\"\n",
    "print(w.upper())\n"
   ]
  },
  {
   "cell_type": "code",
   "execution_count": 51,
   "id": "34d21f52",
   "metadata": {},
   "outputs": [
    {
     "name": "stdout",
     "output_type": "stream",
     "text": [
      "hello world \n"
     ]
    }
   ],
   "source": [
    "a=\"HELLO WORLD \"\n",
    "print(a.lower())\n"
   ]
  },
  {
   "cell_type": "code",
   "execution_count": 53,
   "id": "91329318",
   "metadata": {},
   "outputs": [
    {
     "name": "stdout",
     "output_type": "stream",
     "text": [
      "['HELLO ', 'ORLD ']\n"
     ]
    }
   ],
   "source": [
    "print(a.split(\"W\"))"
   ]
  },
  {
   "cell_type": "code",
   "execution_count": 54,
   "id": "6cc41992",
   "metadata": {},
   "outputs": [
    {
     "name": "stdout",
     "output_type": "stream",
     "text": [
      "kELLO WORLD \n"
     ]
    }
   ],
   "source": [
    "print(a.replace(\"H\" ,\"k\"))"
   ]
  },
  {
   "cell_type": "code",
   "execution_count": 56,
   "id": "27db0c33",
   "metadata": {},
   "outputs": [
    {
     "name": "stdout",
     "output_type": "stream",
     "text": [
      "heelo okk\n"
     ]
    }
   ],
   "source": [
    "a= \"heelo\"\n",
    "b= \"okk\"\n",
    "print(a +\" \" +b)"
   ]
  },
  {
   "cell_type": "code",
   "execution_count": 67,
   "id": "6a4ade9b",
   "metadata": {},
   "outputs": [
    {
     "name": "stdout",
     "output_type": "stream",
     "text": [
      "b is not greaster than a \n"
     ]
    }
   ],
   "source": [
    "a = 200\n",
    "b = 33\n",
    "if b > a:\n",
    "  print(\"b is greater than a\")\n",
    "else :\n",
    "  print(\"b is not greaster than a \")"
   ]
  },
  {
   "cell_type": "code",
   "execution_count": 66,
   "id": "44a975bf",
   "metadata": {},
   "outputs": [
    {
     "name": "stdout",
     "output_type": "stream",
     "text": [
      "b is not greater than a\n"
     ]
    }
   ],
   "source": [
    "a = 200\n",
    "b = 33\n",
    "\n",
    "if b > a:\n",
    "  print(\"b is greater than a\")\n",
    "else:\n",
    "  print(\"b is not greater than a\")\n"
   ]
  },
  {
   "cell_type": "code",
   "execution_count": 69,
   "id": "60925fa1",
   "metadata": {},
   "outputs": [
    {
     "name": "stdout",
     "output_type": "stream",
     "text": [
      "True\n"
     ]
    }
   ],
   "source": [
    "print(bool(\"hii\"))\n"
   ]
  },
  {
   "cell_type": "code",
   "execution_count": 70,
   "id": "17454dd6",
   "metadata": {},
   "outputs": [
    {
     "name": "stdout",
     "output_type": "stream",
     "text": [
      "15\n"
     ]
    }
   ],
   "source": [
    "a =10+5\n",
    "print(a)"
   ]
  },
  {
   "cell_type": "code",
   "execution_count": 73,
   "id": "c10ed268",
   "metadata": {},
   "outputs": [
    {
     "name": "stdout",
     "output_type": "stream",
     "text": [
      "6\n"
     ]
    }
   ],
   "source": [
    "a=12-6 \n",
    "print(a)"
   ]
  },
  {
   "cell_type": "code",
   "execution_count": 74,
   "id": "4f4e069a",
   "metadata": {},
   "outputs": [
    {
     "name": "stdout",
     "output_type": "stream",
     "text": [
      "0\n"
     ]
    }
   ],
   "source": [
    "a=12%6\n",
    "print(a)"
   ]
  },
  {
   "cell_type": "code",
   "execution_count": 77,
   "id": "7ad34a4f",
   "metadata": {},
   "outputs": [
    {
     "name": "stdout",
     "output_type": "stream",
     "text": [
      "2\n"
     ]
    }
   ],
   "source": [
    "a=12//6\n",
    "print(a)"
   ]
  },
  {
   "cell_type": "code",
   "execution_count": 79,
   "id": "96fbc386",
   "metadata": {},
   "outputs": [
    {
     "name": "stdout",
     "output_type": "stream",
     "text": [
      "2985984\n"
     ]
    }
   ],
   "source": [
    "a=12**6\n",
    "print(a)"
   ]
  },
  {
   "cell_type": "code",
   "execution_count": 80,
   "id": "6aaaf95a",
   "metadata": {},
   "outputs": [
    {
     "name": "stdout",
     "output_type": "stream",
     "text": [
      "['apple', 'banana', 'cherry']\n"
     ]
    }
   ],
   "source": [
    "thislist = [\"apple\", \"banana\", \"cherry\"]\n",
    "print(thislist)"
   ]
  },
  {
   "cell_type": "code",
   "execution_count": 81,
   "id": "53123680",
   "metadata": {},
   "outputs": [
    {
     "name": "stdout",
     "output_type": "stream",
     "text": [
      "3\n"
     ]
    }
   ],
   "source": [
    "print(len(thislist))"
   ]
  },
  {
   "cell_type": "code",
   "execution_count": 82,
   "id": "1c23ec53",
   "metadata": {},
   "outputs": [
    {
     "name": "stdout",
     "output_type": "stream",
     "text": [
      "<class 'list'>\n"
     ]
    }
   ],
   "source": [
    "print(type(thislist))"
   ]
  },
  {
   "cell_type": "code",
   "execution_count": 86,
   "id": "213e2e7f",
   "metadata": {},
   "outputs": [
    {
     "name": "stdout",
     "output_type": "stream",
     "text": [
      "['apple', 'banana']\n"
     ]
    }
   ],
   "source": [
    "print(thislist[:2])"
   ]
  },
  {
   "cell_type": "code",
   "execution_count": 87,
   "id": "8ca07c6d",
   "metadata": {},
   "outputs": [
    {
     "name": "stdout",
     "output_type": "stream",
     "text": [
      "['apple', 'banana', 'bebbe']\n"
     ]
    }
   ],
   "source": [
    "thislist[2]=\"bebbe\"\n",
    "print(thislist)"
   ]
  },
  {
   "cell_type": "code",
   "execution_count": 90,
   "id": "3ae709f3",
   "metadata": {},
   "outputs": [
    {
     "name": "stdout",
     "output_type": "stream",
     "text": [
      "['apple', 'banana', 'jik', 'bebbe', 'jik']\n"
     ]
    }
   ],
   "source": [
    "thislist. insert(2,\"jik\")\n",
    "print(thislist)"
   ]
  },
  {
   "cell_type": "code",
   "execution_count": 91,
   "id": "6dfc1b9b",
   "metadata": {},
   "outputs": [
    {
     "name": "stdout",
     "output_type": "stream",
     "text": [
      "['apple', 'banana', 'jik', 'bebbe', 'jik', 'hello']\n"
     ]
    }
   ],
   "source": [
    "thislist.append(\"hello\")\n",
    "print(thislist)"
   ]
  },
  {
   "cell_type": "code",
   "execution_count": 92,
   "id": "ff798d7d",
   "metadata": {},
   "outputs": [
    {
     "name": "stdout",
     "output_type": "stream",
     "text": [
      "['apple', 'jik', 'bebbe', 'jik', 'hello']\n"
     ]
    }
   ],
   "source": [
    "thislist.remove(\"banana\")\n",
    "print(thislist)"
   ]
  },
  {
   "cell_type": "code",
   "execution_count": 1,
   "id": "adce4b18",
   "metadata": {},
   "outputs": [
    {
     "name": "stdout",
     "output_type": "stream",
     "text": [
      "<__main__.Amit object at 0x7fc4f1b17880>\n",
      "<__main__.Amit object at 0x7fc4f1b17d60>\n"
     ]
    }
   ],
   "source": [
    "class Amit:\n",
    "   pass\n",
    "\n",
    "# Creating objects\n",
    "ob1 = Amit()\n",
    "ob2 = Amit()\n",
    "\n",
    "# Displaying\n",
    "print(ob1)\n",
    "print(ob2)"
   ]
  },
  {
   "cell_type": "code",
   "execution_count": null,
   "id": "47698e51",
   "metadata": {},
   "outputs": [],
   "source": []
  }
 ],
 "metadata": {
  "kernelspec": {
   "display_name": "Python 3 (ipykernel)",
   "language": "python",
   "name": "python3"
  },
  "language_info": {
   "codemirror_mode": {
    "name": "ipython",
    "version": 3
   },
   "file_extension": ".py",
   "mimetype": "text/x-python",
   "name": "python",
   "nbconvert_exporter": "python",
   "pygments_lexer": "ipython3",
   "version": "3.9.13"
  }
 },
 "nbformat": 4,
 "nbformat_minor": 5
}
