{
 "cells": [
  {
   "cell_type": "code",
   "execution_count": 1,
   "id": "fa2c4ffa",
   "metadata": {},
   "outputs": [],
   "source": [
    "import pandas as pd "
   ]
  },
  {
   "cell_type": "code",
   "execution_count": 2,
   "id": "de9eef75",
   "metadata": {},
   "outputs": [],
   "source": [
    "dataset = pd.read_csv(\"Students data.csv\")"
   ]
  },
  {
   "cell_type": "code",
   "execution_count": 3,
   "id": "f0b36f5a",
   "metadata": {},
   "outputs": [
    {
     "data": {
      "text/html": [
       "<div>\n",
       "<style scoped>\n",
       "    .dataframe tbody tr th:only-of-type {\n",
       "        vertical-align: middle;\n",
       "    }\n",
       "\n",
       "    .dataframe tbody tr th {\n",
       "        vertical-align: top;\n",
       "    }\n",
       "\n",
       "    .dataframe thead th {\n",
       "        text-align: right;\n",
       "    }\n",
       "</style>\n",
       "<table border=\"1\" class=\"dataframe\">\n",
       "  <thead>\n",
       "    <tr style=\"text-align: right;\">\n",
       "      <th></th>\n",
       "      <th>ID</th>\n",
       "      <th>class</th>\n",
       "      <th>gender</th>\n",
       "      <th>race</th>\n",
       "      <th>GPA</th>\n",
       "      <th>Algebra</th>\n",
       "      <th>Calculus1</th>\n",
       "      <th>Calculus2</th>\n",
       "      <th>Statistics</th>\n",
       "      <th>Probability</th>\n",
       "      <th>Measure</th>\n",
       "      <th>Functional_analysis</th>\n",
       "      <th>from1</th>\n",
       "      <th>from2</th>\n",
       "      <th>from3</th>\n",
       "      <th>from4</th>\n",
       "      <th>y</th>\n",
       "    </tr>\n",
       "  </thead>\n",
       "  <tbody>\n",
       "    <tr>\n",
       "      <th>0</th>\n",
       "      <td>1141</td>\n",
       "      <td>A</td>\n",
       "      <td>male</td>\n",
       "      <td>1</td>\n",
       "      <td>73.47</td>\n",
       "      <td>64</td>\n",
       "      <td>81</td>\n",
       "      <td>87</td>\n",
       "      <td>60</td>\n",
       "      <td>74</td>\n",
       "      <td>71</td>\n",
       "      <td>60</td>\n",
       "      <td>A</td>\n",
       "      <td>A</td>\n",
       "      <td>A</td>\n",
       "      <td>3</td>\n",
       "      <td>0</td>\n",
       "    </tr>\n",
       "    <tr>\n",
       "      <th>1</th>\n",
       "      <td>1142</td>\n",
       "      <td>A</td>\n",
       "      <td>female</td>\n",
       "      <td>1</td>\n",
       "      <td>71.22</td>\n",
       "      <td>57</td>\n",
       "      <td>50</td>\n",
       "      <td>51</td>\n",
       "      <td>51</td>\n",
       "      <td>55</td>\n",
       "      <td>62</td>\n",
       "      <td>61</td>\n",
       "      <td>B</td>\n",
       "      <td>A</td>\n",
       "      <td>A</td>\n",
       "      <td>2</td>\n",
       "      <td>0</td>\n",
       "    </tr>\n",
       "    <tr>\n",
       "      <th>2</th>\n",
       "      <td>1143</td>\n",
       "      <td>A</td>\n",
       "      <td>female</td>\n",
       "      <td>2</td>\n",
       "      <td>74.56</td>\n",
       "      <td>47</td>\n",
       "      <td>48</td>\n",
       "      <td>71</td>\n",
       "      <td>60</td>\n",
       "      <td>61</td>\n",
       "      <td>68</td>\n",
       "      <td>64</td>\n",
       "      <td>C</td>\n",
       "      <td>A</td>\n",
       "      <td>A</td>\n",
       "      <td>0</td>\n",
       "      <td>1</td>\n",
       "    </tr>\n",
       "    <tr>\n",
       "      <th>3</th>\n",
       "      <td>1144</td>\n",
       "      <td>A</td>\n",
       "      <td>female</td>\n",
       "      <td>1</td>\n",
       "      <td>72.89</td>\n",
       "      <td>46</td>\n",
       "      <td>72</td>\n",
       "      <td>38</td>\n",
       "      <td>60</td>\n",
       "      <td>29</td>\n",
       "      <td>54</td>\n",
       "      <td>51</td>\n",
       "      <td>D</td>\n",
       "      <td>A</td>\n",
       "      <td>A</td>\n",
       "      <td>0</td>\n",
       "      <td>0</td>\n",
       "    </tr>\n",
       "    <tr>\n",
       "      <th>4</th>\n",
       "      <td>1145</td>\n",
       "      <td>A</td>\n",
       "      <td>female</td>\n",
       "      <td>1</td>\n",
       "      <td>70.11</td>\n",
       "      <td>49</td>\n",
       "      <td>45</td>\n",
       "      <td>63</td>\n",
       "      <td>60</td>\n",
       "      <td>66</td>\n",
       "      <td>66</td>\n",
       "      <td>61</td>\n",
       "      <td>E</td>\n",
       "      <td>A</td>\n",
       "      <td>A</td>\n",
       "      <td>0</td>\n",
       "      <td>0</td>\n",
       "    </tr>\n",
       "  </tbody>\n",
       "</table>\n",
       "</div>"
      ],
      "text/plain": [
       "     ID class  gender  race    GPA  Algebra  Calculus1  Calculus2  Statistics  \\\n",
       "0  1141     A    male     1  73.47       64         81         87          60   \n",
       "1  1142     A  female     1  71.22       57         50         51          51   \n",
       "2  1143     A  female     2  74.56       47         48         71          60   \n",
       "3  1144     A  female     1  72.89       46         72         38          60   \n",
       "4  1145     A  female     1  70.11       49         45         63          60   \n",
       "\n",
       "   Probability  Measure  Functional_analysis from1 from2 from3  from4  y  \n",
       "0           74       71                   60     A     A     A      3  0  \n",
       "1           55       62                   61     B     A     A      2  0  \n",
       "2           61       68                   64     C     A     A      0  1  \n",
       "3           29       54                   51     D     A     A      0  0  \n",
       "4           66       66                   61     E     A     A      0  0  "
      ]
     },
     "execution_count": 3,
     "metadata": {},
     "output_type": "execute_result"
    }
   ],
   "source": [
    "dataset.head()"
   ]
  },
  {
   "cell_type": "code",
   "execution_count": 18,
   "id": "f7981de5",
   "metadata": {},
   "outputs": [
    {
     "data": {
      "text/html": [
       "<div>\n",
       "<style scoped>\n",
       "    .dataframe tbody tr th:only-of-type {\n",
       "        vertical-align: middle;\n",
       "    }\n",
       "\n",
       "    .dataframe tbody tr th {\n",
       "        vertical-align: top;\n",
       "    }\n",
       "\n",
       "    .dataframe thead th {\n",
       "        text-align: right;\n",
       "    }\n",
       "</style>\n",
       "<table border=\"1\" class=\"dataframe\">\n",
       "  <thead>\n",
       "    <tr style=\"text-align: right;\">\n",
       "      <th></th>\n",
       "      <th>ID</th>\n",
       "      <th>class</th>\n",
       "      <th>gender</th>\n",
       "      <th>race</th>\n",
       "      <th>GPA</th>\n",
       "      <th>Algebra</th>\n",
       "      <th>Calculus1</th>\n",
       "      <th>Calculus2</th>\n",
       "      <th>Statistics</th>\n",
       "      <th>Probability</th>\n",
       "      <th>Measure</th>\n",
       "      <th>Functional_analysis</th>\n",
       "      <th>from1</th>\n",
       "      <th>from2</th>\n",
       "      <th>from3</th>\n",
       "      <th>from4</th>\n",
       "      <th>y</th>\n",
       "    </tr>\n",
       "  </thead>\n",
       "  <tbody>\n",
       "    <tr>\n",
       "      <th>100</th>\n",
       "      <td>1241</td>\n",
       "      <td>A</td>\n",
       "      <td>female</td>\n",
       "      <td>1</td>\n",
       "      <td>88.34</td>\n",
       "      <td>87</td>\n",
       "      <td>83</td>\n",
       "      <td>92</td>\n",
       "      <td>98</td>\n",
       "      <td>93</td>\n",
       "      <td>86</td>\n",
       "      <td>90</td>\n",
       "      <td>M</td>\n",
       "      <td>B</td>\n",
       "      <td>A</td>\n",
       "      <td>0</td>\n",
       "      <td>1</td>\n",
       "    </tr>\n",
       "    <tr>\n",
       "      <th>101</th>\n",
       "      <td>1242</td>\n",
       "      <td>B</td>\n",
       "      <td>male</td>\n",
       "      <td>1</td>\n",
       "      <td>89.84</td>\n",
       "      <td>98</td>\n",
       "      <td>77</td>\n",
       "      <td>95</td>\n",
       "      <td>98</td>\n",
       "      <td>96</td>\n",
       "      <td>88</td>\n",
       "      <td>100</td>\n",
       "      <td>A</td>\n",
       "      <td>B</td>\n",
       "      <td>A</td>\n",
       "      <td>0</td>\n",
       "      <td>1</td>\n",
       "    </tr>\n",
       "    <tr>\n",
       "      <th>102</th>\n",
       "      <td>1243</td>\n",
       "      <td>B</td>\n",
       "      <td>male</td>\n",
       "      <td>1</td>\n",
       "      <td>88.82</td>\n",
       "      <td>83</td>\n",
       "      <td>80</td>\n",
       "      <td>91</td>\n",
       "      <td>98</td>\n",
       "      <td>93</td>\n",
       "      <td>95</td>\n",
       "      <td>71</td>\n",
       "      <td>T</td>\n",
       "      <td>B</td>\n",
       "      <td>A</td>\n",
       "      <td>0</td>\n",
       "      <td>2</td>\n",
       "    </tr>\n",
       "    <tr>\n",
       "      <th>103</th>\n",
       "      <td>1244</td>\n",
       "      <td>A</td>\n",
       "      <td>male</td>\n",
       "      <td>1</td>\n",
       "      <td>86.60</td>\n",
       "      <td>92</td>\n",
       "      <td>82</td>\n",
       "      <td>91</td>\n",
       "      <td>99</td>\n",
       "      <td>94</td>\n",
       "      <td>82</td>\n",
       "      <td>78</td>\n",
       "      <td>S</td>\n",
       "      <td>B</td>\n",
       "      <td>A</td>\n",
       "      <td>0</td>\n",
       "      <td>2</td>\n",
       "    </tr>\n",
       "    <tr>\n",
       "      <th>104</th>\n",
       "      <td>1245</td>\n",
       "      <td>A</td>\n",
       "      <td>male</td>\n",
       "      <td>1</td>\n",
       "      <td>93.71</td>\n",
       "      <td>93</td>\n",
       "      <td>97</td>\n",
       "      <td>99</td>\n",
       "      <td>100</td>\n",
       "      <td>97</td>\n",
       "      <td>90</td>\n",
       "      <td>90</td>\n",
       "      <td>K</td>\n",
       "      <td>B</td>\n",
       "      <td>A</td>\n",
       "      <td>0</td>\n",
       "      <td>2</td>\n",
       "    </tr>\n",
       "  </tbody>\n",
       "</table>\n",
       "</div>"
      ],
      "text/plain": [
       "       ID class  gender  race    GPA  Algebra  Calculus1  Calculus2  \\\n",
       "100  1241     A  female     1  88.34       87         83         92   \n",
       "101  1242     B    male     1  89.84       98         77         95   \n",
       "102  1243     B    male     1  88.82       83         80         91   \n",
       "103  1244     A    male     1  86.60       92         82         91   \n",
       "104  1245     A    male     1  93.71       93         97         99   \n",
       "\n",
       "     Statistics  Probability  Measure  Functional_analysis from1 from2 from3  \\\n",
       "100          98           93       86                   90     M     B     A   \n",
       "101          98           96       88                  100     A     B     A   \n",
       "102          98           93       95                   71     T     B     A   \n",
       "103          99           94       82                   78     S     B     A   \n",
       "104         100           97       90                   90     K     B     A   \n",
       "\n",
       "     from4  y  \n",
       "100      0  1  \n",
       "101      0  1  \n",
       "102      0  2  \n",
       "103      0  2  \n",
       "104      0  2  "
      ]
     },
     "execution_count": 18,
     "metadata": {},
     "output_type": "execute_result"
    }
   ],
   "source": [
    "dataset.tail()"
   ]
  },
  {
   "cell_type": "code",
   "execution_count": 4,
   "id": "d2b3c85f",
   "metadata": {},
   "outputs": [
    {
     "data": {
      "text/plain": [
       "(105, 17)"
      ]
     },
     "execution_count": 4,
     "metadata": {},
     "output_type": "execute_result"
    }
   ],
   "source": [
    "dataset.shape"
   ]
  },
  {
   "cell_type": "code",
   "execution_count": 5,
   "id": "3bee3a83",
   "metadata": {},
   "outputs": [
    {
     "data": {
      "text/plain": [
       "ID                       int64\n",
       "class                   object\n",
       "gender                  object\n",
       "race                     int64\n",
       "GPA                    float64\n",
       "Algebra                  int64\n",
       "Calculus1                int64\n",
       "Calculus2                int64\n",
       "Statistics               int64\n",
       "Probability              int64\n",
       "Measure                  int64\n",
       "Functional_analysis      int64\n",
       "from1                   object\n",
       "from2                   object\n",
       "from3                   object\n",
       "from4                    int64\n",
       "y                        int64\n",
       "dtype: object"
      ]
     },
     "execution_count": 5,
     "metadata": {},
     "output_type": "execute_result"
    }
   ],
   "source": [
    "dataset.dtypes"
   ]
  },
  {
   "cell_type": "code",
   "execution_count": 6,
   "id": "79e83605",
   "metadata": {},
   "outputs": [
    {
     "data": {
      "text/html": [
       "<div>\n",
       "<style scoped>\n",
       "    .dataframe tbody tr th:only-of-type {\n",
       "        vertical-align: middle;\n",
       "    }\n",
       "\n",
       "    .dataframe tbody tr th {\n",
       "        vertical-align: top;\n",
       "    }\n",
       "\n",
       "    .dataframe thead th {\n",
       "        text-align: right;\n",
       "    }\n",
       "</style>\n",
       "<table border=\"1\" class=\"dataframe\">\n",
       "  <thead>\n",
       "    <tr style=\"text-align: right;\">\n",
       "      <th></th>\n",
       "      <th>ID</th>\n",
       "      <th>class</th>\n",
       "      <th>gender</th>\n",
       "      <th>race</th>\n",
       "      <th>GPA</th>\n",
       "      <th>Algebra</th>\n",
       "      <th>Calculus1</th>\n",
       "      <th>Calculus2</th>\n",
       "      <th>Statistics</th>\n",
       "      <th>Probability</th>\n",
       "      <th>Measure</th>\n",
       "      <th>Functional_analysis</th>\n",
       "      <th>from1</th>\n",
       "      <th>from2</th>\n",
       "      <th>from3</th>\n",
       "      <th>from4</th>\n",
       "      <th>y</th>\n",
       "    </tr>\n",
       "  </thead>\n",
       "  <tbody>\n",
       "    <tr>\n",
       "      <th>100</th>\n",
       "      <td>1241</td>\n",
       "      <td>A</td>\n",
       "      <td>female</td>\n",
       "      <td>1</td>\n",
       "      <td>88.34</td>\n",
       "      <td>87</td>\n",
       "      <td>83</td>\n",
       "      <td>92</td>\n",
       "      <td>98</td>\n",
       "      <td>93</td>\n",
       "      <td>86</td>\n",
       "      <td>90</td>\n",
       "      <td>M</td>\n",
       "      <td>B</td>\n",
       "      <td>A</td>\n",
       "      <td>0</td>\n",
       "      <td>1</td>\n",
       "    </tr>\n",
       "    <tr>\n",
       "      <th>101</th>\n",
       "      <td>1242</td>\n",
       "      <td>B</td>\n",
       "      <td>male</td>\n",
       "      <td>1</td>\n",
       "      <td>89.84</td>\n",
       "      <td>98</td>\n",
       "      <td>77</td>\n",
       "      <td>95</td>\n",
       "      <td>98</td>\n",
       "      <td>96</td>\n",
       "      <td>88</td>\n",
       "      <td>100</td>\n",
       "      <td>A</td>\n",
       "      <td>B</td>\n",
       "      <td>A</td>\n",
       "      <td>0</td>\n",
       "      <td>1</td>\n",
       "    </tr>\n",
       "    <tr>\n",
       "      <th>102</th>\n",
       "      <td>1243</td>\n",
       "      <td>B</td>\n",
       "      <td>male</td>\n",
       "      <td>1</td>\n",
       "      <td>88.82</td>\n",
       "      <td>83</td>\n",
       "      <td>80</td>\n",
       "      <td>91</td>\n",
       "      <td>98</td>\n",
       "      <td>93</td>\n",
       "      <td>95</td>\n",
       "      <td>71</td>\n",
       "      <td>T</td>\n",
       "      <td>B</td>\n",
       "      <td>A</td>\n",
       "      <td>0</td>\n",
       "      <td>2</td>\n",
       "    </tr>\n",
       "    <tr>\n",
       "      <th>103</th>\n",
       "      <td>1244</td>\n",
       "      <td>A</td>\n",
       "      <td>male</td>\n",
       "      <td>1</td>\n",
       "      <td>86.60</td>\n",
       "      <td>92</td>\n",
       "      <td>82</td>\n",
       "      <td>91</td>\n",
       "      <td>99</td>\n",
       "      <td>94</td>\n",
       "      <td>82</td>\n",
       "      <td>78</td>\n",
       "      <td>S</td>\n",
       "      <td>B</td>\n",
       "      <td>A</td>\n",
       "      <td>0</td>\n",
       "      <td>2</td>\n",
       "    </tr>\n",
       "    <tr>\n",
       "      <th>104</th>\n",
       "      <td>1245</td>\n",
       "      <td>A</td>\n",
       "      <td>male</td>\n",
       "      <td>1</td>\n",
       "      <td>93.71</td>\n",
       "      <td>93</td>\n",
       "      <td>97</td>\n",
       "      <td>99</td>\n",
       "      <td>100</td>\n",
       "      <td>97</td>\n",
       "      <td>90</td>\n",
       "      <td>90</td>\n",
       "      <td>K</td>\n",
       "      <td>B</td>\n",
       "      <td>A</td>\n",
       "      <td>0</td>\n",
       "      <td>2</td>\n",
       "    </tr>\n",
       "  </tbody>\n",
       "</table>\n",
       "</div>"
      ],
      "text/plain": [
       "       ID class  gender  race    GPA  Algebra  Calculus1  Calculus2  \\\n",
       "100  1241     A  female     1  88.34       87         83         92   \n",
       "101  1242     B    male     1  89.84       98         77         95   \n",
       "102  1243     B    male     1  88.82       83         80         91   \n",
       "103  1244     A    male     1  86.60       92         82         91   \n",
       "104  1245     A    male     1  93.71       93         97         99   \n",
       "\n",
       "     Statistics  Probability  Measure  Functional_analysis from1 from2 from3  \\\n",
       "100          98           93       86                   90     M     B     A   \n",
       "101          98           96       88                  100     A     B     A   \n",
       "102          98           93       95                   71     T     B     A   \n",
       "103          99           94       82                   78     S     B     A   \n",
       "104         100           97       90                   90     K     B     A   \n",
       "\n",
       "     from4  y  \n",
       "100      0  1  \n",
       "101      0  1  \n",
       "102      0  2  \n",
       "103      0  2  \n",
       "104      0  2  "
      ]
     },
     "execution_count": 6,
     "metadata": {},
     "output_type": "execute_result"
    }
   ],
   "source": [
    "import pandas as pd\n",
    "dataset = pd.read_csv(\"Students data.csv\")\n",
    "dataset.tail()"
   ]
  },
  {
   "cell_type": "code",
   "execution_count": 7,
   "id": "7718d57b",
   "metadata": {},
   "outputs": [
    {
     "name": "stdout",
     "output_type": "stream",
     "text": [
      "<class 'pandas.core.frame.DataFrame'>\n",
      "RangeIndex: 105 entries, 0 to 104\n",
      "Data columns (total 17 columns):\n",
      " #   Column               Non-Null Count  Dtype  \n",
      "---  ------               --------------  -----  \n",
      " 0   ID                   105 non-null    int64  \n",
      " 1   class                105 non-null    object \n",
      " 2   gender               105 non-null    object \n",
      " 3   race                 105 non-null    int64  \n",
      " 4   GPA                  105 non-null    float64\n",
      " 5   Algebra              105 non-null    int64  \n",
      " 6   Calculus1            105 non-null    int64  \n",
      " 7   Calculus2            105 non-null    int64  \n",
      " 8   Statistics           105 non-null    int64  \n",
      " 9   Probability          105 non-null    int64  \n",
      " 10  Measure              105 non-null    int64  \n",
      " 11  Functional_analysis  105 non-null    int64  \n",
      " 12  from1                105 non-null    object \n",
      " 13  from2                105 non-null    object \n",
      " 14  from3                105 non-null    object \n",
      " 15  from4                105 non-null    int64  \n",
      " 16  y                    105 non-null    int64  \n",
      "dtypes: float64(1), int64(11), object(5)\n",
      "memory usage: 14.1+ KB\n"
     ]
    }
   ],
   "source": [
    "dataset.info()"
   ]
  },
  {
   "cell_type": "code",
   "execution_count": 8,
   "id": "26b18eb5",
   "metadata": {},
   "outputs": [
    {
     "name": "stdout",
     "output_type": "stream",
     "text": [
      "       ID class  gender  race    GPA  Algebra  Calculus1  Calculus2  Statistics  Probability  Measure  Functional_analysis from1 from2 from3  from4  y\n",
      "0    1141     A    male     1  73.47       64         81         87          60           74       71                   60     A     A     A      3  0\n",
      "1    1142     A  female     1  71.22       57         50         51          51           55       62                   61     B     A     A      2  0\n",
      "2    1143     A  female     2  74.56       47         48         71          60           61       68                   64     C     A     A      0  1\n",
      "3    1144     A  female     1  72.89       46         72         38          60           29       54                   51     D     A     A      0  0\n",
      "4    1145     A  female     1  70.11       49         45         63          60           66       66                   61     E     A     A      0  0\n",
      "5    1146     A    male     3  65.04       60         60         39          61           65       74                   60     F     B     C      0  0\n",
      "6    1147     A    male     4  77.11       60         43         52          63           71       72                   75     G     A     A      0  1\n",
      "7    1148     A  female     5  64.75       60         38         60          63           70       68                   51     H     B     C      0  0\n",
      "8    1149     B  female     5  77.92       61         60         66          68           80       78                   71     I     B     A      0  0\n",
      "9    1150     A  female     5  76.50       60         61         60          69           73       60                   62     H     B     A      0  0\n",
      "10   1151     A    male     1  76.83       61         66         61          69           65       69                   67     H     B     A      0  0\n",
      "11   1152     B  female     1  83.65       73         75         76          71           85       74                   89     J     B     A      2  0\n",
      "12   1153     B  female     1  77.00       70         60         71          71           87       68                   61     K     B     D      0  0\n",
      "13   1154     A    male     1  80.08       67         65         74          73           87       68                   76     E     B     A      0  2\n",
      "14   1155     A    male     1  81.67       73         60         55          76           77       74                   64     L     A     A      0  2\n",
      "15   1156     B  female     6  82.07       72         63         70          76           81       86                   73     E     B     A      0  2\n",
      "16   1157     A    male     1  74.11       74         70         61          76           68       57                   61     M     B     A      0  2\n",
      "17   1158     A    male     1  81.50       68         67         55          76           85       75                   87     B     A     A      0  0\n",
      "18   1159     B    male     1  75.64       60         68         54          76           76       76                   64     N     B     A      0  0\n",
      "19   1160     A    male     7  76.46       67         73         64          78           83       76                   64     O     B     B      0  2\n",
      "20   1161     B    male     1  75.57       63         64         71          78           69       76                   62     I     B     A      0  2\n",
      "21   1162     B    male     1  83.13       82         82         92          78           92       83                   78     N     B     A      2  0\n",
      "22   1163     B  female     1  79.70       72         68         55          78           77       68                   71     B     B     D      2  0\n",
      "23   1164     A  female     1  83.98       71         73         83          79           88       87                   81     F     B     A      2  0\n",
      "24   1165     A    male     3  79.56       64         62         76          80           81       80                   74     F     B     C      0  0\n",
      "25   1166     A  female     4  78.54       76         67         71          80           71       83                   67     P     A     D      0  0\n",
      "26   1167     B  female     1  77.76       67         46         71          80           82       69                   64     P     B     A      2  0\n",
      "27   1168     A  female     1  83.06       68         72         71          81           86       81                   70     F     B     A      2  0\n",
      "28   1169     A    male     1  84.04       73         80         85          83           79       73                   62     Q     B     S      0  0\n",
      "29   1170     A  female     1  85.29       77         64         64          83           95       80                   88     R     A     A      0  2\n",
      "30   1171     B  female     1  85.04       76         75         85          83           88       82                   69     J     B     A      2  0\n",
      "31   1172     A    male     3  87.04       87         98         93          83           95       87                   79     B     B     B      0  0\n",
      "32   1173     A    male     2  74.17       63         73         61          83           72       55                   62     C     A     A      0  0\n",
      "33   1174     A    male     7  82.71       82         90         90          83           77       79                   70     Q     B     B      0  0\n",
      "34   1175     A  female     1  81.29       67         62         85          83           82       83                   64     D     A     A      0  0\n",
      "35   1176     A  female     1  85.55       69         83         73          83           85       67                   81     N     A     A      2  1\n",
      "36   1177     A  female     1  86.43       85         83         88          85           85       92                   85     P     B     A      0  0\n",
      "37   1178     A  female     1  85.11       73         61         80          85           90       79                   82     S     A     A      0  0\n",
      "38   1179     B  female     1  81.30       72         76         85          85           91       71                   79     P     B     A      0  0\n",
      "39   1180     A  female     1  84.01       80         75         83          85           86       87                   81     K     B     A      0  1\n",
      "40   1181     B    male     1  83.19       62         73         76          85           79       74                   67     B     B     A      2  0\n",
      "41   1182     B  female     1  90.66       88         78         95          85           97       97                   99     B     B     A      0  1\n",
      "42   1183     A  female     1  83.94       74         81         87          86           82       80                   73     U     A     A      0  1\n",
      "43   1184     A  female     7  81.07       64         55         71          86           67       72                   73     G     A     A      0  0\n",
      "44   1185     B  female     1  81.61       84         62         80          86           78       84                   73     B     B     A      0  0\n",
      "45   1186     A  female     1  87.85       80         78         90          87           90       87                   91     V     A     A      2  1\n",
      "46   1187     A  female     4  80.60       60         60         73          87           82       74                   64     T     A     D      2  1\n",
      "47   1188     A    male     5  74.43       66         80         83          87           79       69                   60     H     B     C      2  0\n",
      "48   1189     A  female     1  83.15       68         80         92          87           80       83                   64     B     A     A      2  0\n",
      "49   1190     A  female     1  82.55       67         71         80          87           87       83                   67     Z     B     A      0  2\n",
      "50   1191     A    male     1  79.00       82         72         77          87           82       92                   71     S     B     A      0  1\n",
      "51   1192     B  female     1  84.45       76         61         77          87           90       91                   76     A     B     A      2  0\n",
      "52   1193     B  female     1  85.02       70         71         83          87           90       80                   76     B     B     D      2  0\n",
      "53   1194     A  female     1  77.53       76         53         55          87           82       80                   63     E     B     A      0  0\n",
      "54   1195     A  female     1  78.08       65         60         75          88           78       78                   61     J     B     A      0  2\n",
      "55   1196     A  female     1  87.44       87         75         91          88           95       89                   94     A     A     A      2  0\n",
      "56   1197     A  female     7  81.71       69         68         78          88           78       74                   78     O     A     A      0  0\n",
      "57   1198     B  female     1  85.72       75         80         64          88           86       86                   69     E     B     A      0  1\n",
      "58   1199     B  female     3  88.35       93         71         85          88           91       92                   86     U     B     A      0  1\n",
      "59   1200     B    male     4  79.34       62         75         80          89           75       63                   74     I     B     A      0  0\n",
      "60   1201     A  female     1  84.70       62         66         93          89           84       79                   81     W     A     A      0  0\n",
      "61   1202     A    male     3  78.39       66         60         66          89           76       75                   78     P     B     B      0  2\n",
      "62   1203     B  female     1  77.53       72         71         71          89           82       66                   60     X     B     D      0  0\n",
      "63   1204     B  female     1  81.03       73         53         88          89           81       78                   68     K     B     D      0  0\n",
      "64   1205     A  female     1  83.79       81         71         68          90           79       86                   73     N     A     A      0  2\n",
      "65   1206     A    male     1  86.37       95         76         87          90           86       94                   84     E     B     A      0  0\n",
      "66   1207     B  female     1  87.30       81         80         83          90           94       95                   78     K     B     A      0  2\n",
      "67   1208     A  female     1  84.41       82         77         86          91           75       72                   85     P     B     A      0  0\n",
      "68   1209     A  female     1  93.06       82         90         93          91           93       99                   94     M     B     S      0  0\n",
      "69   1210     A  female     1  87.30       76         88         80          91           89       75                   78     R     A     A      0  2\n",
      "70   1211     B  female     1  87.42       85         75         92          91           92       75                   78     K     B     A      0  2\n",
      "71   1212     A  female     1  84.33       88         72         85          92           94       87                   60     M     B     A      2  1\n",
      "72   1213     A    male     1  89.41       90         87         83          92           97       87                   70     Y     B     D      0  0\n",
      "73   1214     A  female     1  84.11       79         48         85          92           85       88                   84     X     A     A      0  2\n",
      "74   1215     A  female     1  87.26       80         78         87          92           95       92                   94     E     A     A      0  1\n",
      "75   1216     A  female     1  91.90       95         86         96          92           95       90                   95     Z     B     A      2  1\n",
      "76   1217     A  female     1  87.77       91         68         87          92           92       90                   77     V     A     A      0  1\n",
      "77   1218     A  female     1  84.68       73         73         94          92           92       81                   74     X     A     A      2  1\n",
      "78   1219     A    male     1  63.49       81         61         17          92           88       69                    9     T     B     D      2  0\n",
      "79   1220     A  female     3  89.95       87         87         92          92           90       92                   84     P     B     A      2  1\n",
      "80   1221     A  female     1  85.18       75         70         73          92           84       76                   88     X     A     A      2  0\n",
      "81   1222     B  female     6  85.84       82         77         86          92           90       80                   86     X     B     D      0  2\n",
      "82   1223     B    male     1  84.18       84         67         94          92           82       83                   85     U     B     A      0  1\n",
      "83   1224     A  female     1  85.00       76         75         83          93           85       75                   89     W     A     A      0  2\n",
      "84   1225     A  female     1  90.62       94         81         90          93           91       86                   94     S     A     A      0  1\n",
      "85   1226     B  female     1  87.12       92         73         87          94           94       96                   89     U     B     A      2  0\n",
      "86   1227     A  female     1  84.63       83         87         88          94           79       87                   76     X     B     A      0  0\n",
      "87   1228     A  female     1  88.62       95         65         97          94           97       85                   85     X     B     S      0  2\n",
      "88   1229     A  female     1  87.87       84         86         94          94           94       95                   80     E     B     S      0  1\n",
      "89   1230     A    male     7  86.01       77         60         78          94           88       90                   93     O     A     A      0  2\n",
      "90   1231     A    male     1  89.46       87         92         81          95           89       92                   86     E     B     A      0  2\n",
      "91   1232     A  female     1  86.96       92         86         94          95           95       94                   84     M     B     A      0  1\n",
      "92   1233     A    male     1  86.87       82         77         85          95           94       90                   80     N     B     A      0  0\n",
      "93   1234     A  female     1  91.61       93         82         95          95           94      100                   93     Y     B     S      0  1\n",
      "94   1235     A  female     1  88.54       89         86         96          96           96       87                   81    AA     B     A      0  0\n",
      "95   1236     A  female     1  87.63       82         81         97          97           88       91                   68     J     B     A      2  0\n",
      "96   1237     A    male     2  91.74       94        100         96          97           95       94                   93     C     B     S      0  2\n",
      "97   1238     A    male     1  91.14       98         90         98          97           83       93                   89    AA     B     A      0  1\n",
      "98   1239     A    male     1  90.31       84         82         99          97           89       96                   85     P     B     A      0  2\n",
      "99   1240     B    male     1  88.10       87         70         95          97           91       93                   82    AB     B     A      0  0\n",
      "100  1241     A  female     1  88.34       87         83         92          98           93       86                   90     M     B     A      0  1\n",
      "101  1242     B    male     1  89.84       98         77         95          98           96       88                  100     A     B     A      0  1\n",
      "102  1243     B    male     1  88.82       83         80         91          98           93       95                   71     T     B     A      0  2\n",
      "103  1244     A    male     1  86.60       92         82         91          99           94       82                   78     S     B     A      0  2\n",
      "104  1245     A    male     1  93.71       93         97         99         100           97       90                   90     K     B     A      0  2\n"
     ]
    }
   ],
   "source": [
    "dataset = pd.read_csv(\"Students data.csv\")\n",
    "new_datset =dataset.dropna()\n",
    "print(new_datset.to_string())"
   ]
  },
  {
   "cell_type": "code",
   "execution_count": 11,
   "id": "3c06a47f",
   "metadata": {},
   "outputs": [
    {
     "data": {
      "text/html": [
       "<div>\n",
       "<style scoped>\n",
       "    .dataframe tbody tr th:only-of-type {\n",
       "        vertical-align: middle;\n",
       "    }\n",
       "\n",
       "    .dataframe tbody tr th {\n",
       "        vertical-align: top;\n",
       "    }\n",
       "\n",
       "    .dataframe thead th {\n",
       "        text-align: right;\n",
       "    }\n",
       "</style>\n",
       "<table border=\"1\" class=\"dataframe\">\n",
       "  <thead>\n",
       "    <tr style=\"text-align: right;\">\n",
       "      <th></th>\n",
       "      <th>ID</th>\n",
       "      <th>race</th>\n",
       "      <th>GPA</th>\n",
       "      <th>Algebra</th>\n",
       "      <th>Calculus1</th>\n",
       "      <th>Calculus2</th>\n",
       "      <th>Statistics</th>\n",
       "      <th>Probability</th>\n",
       "      <th>Measure</th>\n",
       "      <th>Functional_analysis</th>\n",
       "      <th>from4</th>\n",
       "      <th>y</th>\n",
       "    </tr>\n",
       "  </thead>\n",
       "  <tbody>\n",
       "    <tr>\n",
       "      <th>ID</th>\n",
       "      <td>1.000000</td>\n",
       "      <td>-0.199560</td>\n",
       "      <td>0.688738</td>\n",
       "      <td>0.751647</td>\n",
       "      <td>0.502151</td>\n",
       "      <td>0.610048</td>\n",
       "      <td>0.925148</td>\n",
       "      <td>0.627886</td>\n",
       "      <td>0.635982</td>\n",
       "      <td>0.464508</td>\n",
       "      <td>-0.112189</td>\n",
       "      <td>0.319634</td>\n",
       "    </tr>\n",
       "    <tr>\n",
       "      <th>race</th>\n",
       "      <td>-0.199560</td>\n",
       "      <td>1.000000</td>\n",
       "      <td>-0.246571</td>\n",
       "      <td>-0.249298</td>\n",
       "      <td>-0.192550</td>\n",
       "      <td>-0.173228</td>\n",
       "      <td>-0.179594</td>\n",
       "      <td>-0.229312</td>\n",
       "      <td>-0.186478</td>\n",
       "      <td>-0.102435</td>\n",
       "      <td>-0.154352</td>\n",
       "      <td>0.011883</td>\n",
       "    </tr>\n",
       "    <tr>\n",
       "      <th>GPA</th>\n",
       "      <td>0.688738</td>\n",
       "      <td>-0.246571</td>\n",
       "      <td>1.000000</td>\n",
       "      <td>0.761590</td>\n",
       "      <td>0.660560</td>\n",
       "      <td>0.803865</td>\n",
       "      <td>0.740903</td>\n",
       "      <td>0.732898</td>\n",
       "      <td>0.758676</td>\n",
       "      <td>0.809451</td>\n",
       "      <td>-0.052361</td>\n",
       "      <td>0.292536</td>\n",
       "    </tr>\n",
       "    <tr>\n",
       "      <th>Algebra</th>\n",
       "      <td>0.751647</td>\n",
       "      <td>-0.249298</td>\n",
       "      <td>0.761590</td>\n",
       "      <td>1.000000</td>\n",
       "      <td>0.608083</td>\n",
       "      <td>0.640578</td>\n",
       "      <td>0.759595</td>\n",
       "      <td>0.752480</td>\n",
       "      <td>0.755499</td>\n",
       "      <td>0.572575</td>\n",
       "      <td>-0.078426</td>\n",
       "      <td>0.257051</td>\n",
       "    </tr>\n",
       "    <tr>\n",
       "      <th>Calculus1</th>\n",
       "      <td>0.502151</td>\n",
       "      <td>-0.192550</td>\n",
       "      <td>0.660560</td>\n",
       "      <td>0.608083</td>\n",
       "      <td>1.000000</td>\n",
       "      <td>0.588929</td>\n",
       "      <td>0.547605</td>\n",
       "      <td>0.484766</td>\n",
       "      <td>0.471347</td>\n",
       "      <td>0.430825</td>\n",
       "      <td>0.034589</td>\n",
       "      <td>0.125429</td>\n",
       "    </tr>\n",
       "    <tr>\n",
       "      <th>Calculus2</th>\n",
       "      <td>0.610048</td>\n",
       "      <td>-0.173228</td>\n",
       "      <td>0.803865</td>\n",
       "      <td>0.640578</td>\n",
       "      <td>0.588929</td>\n",
       "      <td>1.000000</td>\n",
       "      <td>0.640908</td>\n",
       "      <td>0.638694</td>\n",
       "      <td>0.658728</td>\n",
       "      <td>0.672529</td>\n",
       "      <td>0.002183</td>\n",
       "      <td>0.154947</td>\n",
       "    </tr>\n",
       "    <tr>\n",
       "      <th>Statistics</th>\n",
       "      <td>0.925148</td>\n",
       "      <td>-0.179594</td>\n",
       "      <td>0.740903</td>\n",
       "      <td>0.759595</td>\n",
       "      <td>0.547605</td>\n",
       "      <td>0.640908</td>\n",
       "      <td>1.000000</td>\n",
       "      <td>0.716918</td>\n",
       "      <td>0.644505</td>\n",
       "      <td>0.469362</td>\n",
       "      <td>-0.092722</td>\n",
       "      <td>0.296005</td>\n",
       "    </tr>\n",
       "    <tr>\n",
       "      <th>Probability</th>\n",
       "      <td>0.627886</td>\n",
       "      <td>-0.229312</td>\n",
       "      <td>0.732898</td>\n",
       "      <td>0.752480</td>\n",
       "      <td>0.484766</td>\n",
       "      <td>0.638694</td>\n",
       "      <td>0.716918</td>\n",
       "      <td>1.000000</td>\n",
       "      <td>0.704155</td>\n",
       "      <td>0.547730</td>\n",
       "      <td>0.074619</td>\n",
       "      <td>0.245288</td>\n",
       "    </tr>\n",
       "    <tr>\n",
       "      <th>Measure</th>\n",
       "      <td>0.635982</td>\n",
       "      <td>-0.186478</td>\n",
       "      <td>0.758676</td>\n",
       "      <td>0.755499</td>\n",
       "      <td>0.471347</td>\n",
       "      <td>0.658728</td>\n",
       "      <td>0.644505</td>\n",
       "      <td>0.704155</td>\n",
       "      <td>1.000000</td>\n",
       "      <td>0.596535</td>\n",
       "      <td>-0.066559</td>\n",
       "      <td>0.229720</td>\n",
       "    </tr>\n",
       "    <tr>\n",
       "      <th>Functional_analysis</th>\n",
       "      <td>0.464508</td>\n",
       "      <td>-0.102435</td>\n",
       "      <td>0.809451</td>\n",
       "      <td>0.572575</td>\n",
       "      <td>0.430825</td>\n",
       "      <td>0.672529</td>\n",
       "      <td>0.469362</td>\n",
       "      <td>0.547730</td>\n",
       "      <td>0.596535</td>\n",
       "      <td>1.000000</td>\n",
       "      <td>-0.138165</td>\n",
       "      <td>0.254932</td>\n",
       "    </tr>\n",
       "    <tr>\n",
       "      <th>from4</th>\n",
       "      <td>-0.112189</td>\n",
       "      <td>-0.154352</td>\n",
       "      <td>-0.052361</td>\n",
       "      <td>-0.078426</td>\n",
       "      <td>0.034589</td>\n",
       "      <td>0.002183</td>\n",
       "      <td>-0.092722</td>\n",
       "      <td>0.074619</td>\n",
       "      <td>-0.066559</td>\n",
       "      <td>-0.138165</td>\n",
       "      <td>1.000000</td>\n",
       "      <td>-0.311258</td>\n",
       "    </tr>\n",
       "    <tr>\n",
       "      <th>y</th>\n",
       "      <td>0.319634</td>\n",
       "      <td>0.011883</td>\n",
       "      <td>0.292536</td>\n",
       "      <td>0.257051</td>\n",
       "      <td>0.125429</td>\n",
       "      <td>0.154947</td>\n",
       "      <td>0.296005</td>\n",
       "      <td>0.245288</td>\n",
       "      <td>0.229720</td>\n",
       "      <td>0.254932</td>\n",
       "      <td>-0.311258</td>\n",
       "      <td>1.000000</td>\n",
       "    </tr>\n",
       "  </tbody>\n",
       "</table>\n",
       "</div>"
      ],
      "text/plain": [
       "                           ID      race       GPA   Algebra  Calculus1  \\\n",
       "ID                   1.000000 -0.199560  0.688738  0.751647   0.502151   \n",
       "race                -0.199560  1.000000 -0.246571 -0.249298  -0.192550   \n",
       "GPA                  0.688738 -0.246571  1.000000  0.761590   0.660560   \n",
       "Algebra              0.751647 -0.249298  0.761590  1.000000   0.608083   \n",
       "Calculus1            0.502151 -0.192550  0.660560  0.608083   1.000000   \n",
       "Calculus2            0.610048 -0.173228  0.803865  0.640578   0.588929   \n",
       "Statistics           0.925148 -0.179594  0.740903  0.759595   0.547605   \n",
       "Probability          0.627886 -0.229312  0.732898  0.752480   0.484766   \n",
       "Measure              0.635982 -0.186478  0.758676  0.755499   0.471347   \n",
       "Functional_analysis  0.464508 -0.102435  0.809451  0.572575   0.430825   \n",
       "from4               -0.112189 -0.154352 -0.052361 -0.078426   0.034589   \n",
       "y                    0.319634  0.011883  0.292536  0.257051   0.125429   \n",
       "\n",
       "                     Calculus2  Statistics  Probability   Measure  \\\n",
       "ID                    0.610048    0.925148     0.627886  0.635982   \n",
       "race                 -0.173228   -0.179594    -0.229312 -0.186478   \n",
       "GPA                   0.803865    0.740903     0.732898  0.758676   \n",
       "Algebra               0.640578    0.759595     0.752480  0.755499   \n",
       "Calculus1             0.588929    0.547605     0.484766  0.471347   \n",
       "Calculus2             1.000000    0.640908     0.638694  0.658728   \n",
       "Statistics            0.640908    1.000000     0.716918  0.644505   \n",
       "Probability           0.638694    0.716918     1.000000  0.704155   \n",
       "Measure               0.658728    0.644505     0.704155  1.000000   \n",
       "Functional_analysis   0.672529    0.469362     0.547730  0.596535   \n",
       "from4                 0.002183   -0.092722     0.074619 -0.066559   \n",
       "y                     0.154947    0.296005     0.245288  0.229720   \n",
       "\n",
       "                     Functional_analysis     from4         y  \n",
       "ID                              0.464508 -0.112189  0.319634  \n",
       "race                           -0.102435 -0.154352  0.011883  \n",
       "GPA                             0.809451 -0.052361  0.292536  \n",
       "Algebra                         0.572575 -0.078426  0.257051  \n",
       "Calculus1                       0.430825  0.034589  0.125429  \n",
       "Calculus2                       0.672529  0.002183  0.154947  \n",
       "Statistics                      0.469362 -0.092722  0.296005  \n",
       "Probability                     0.547730  0.074619  0.245288  \n",
       "Measure                         0.596535 -0.066559  0.229720  \n",
       "Functional_analysis             1.000000 -0.138165  0.254932  \n",
       "from4                          -0.138165  1.000000 -0.311258  \n",
       "y                               0.254932 -0.311258  1.000000  "
      ]
     },
     "execution_count": 11,
     "metadata": {},
     "output_type": "execute_result"
    }
   ],
   "source": [
    "dataset.corr()"
   ]
  },
  {
   "cell_type": "code",
   "execution_count": 12,
   "id": "15e606f2",
   "metadata": {},
   "outputs": [
    {
     "data": {
      "text/plain": [
       "<AxesSubplot:>"
      ]
     },
     "execution_count": 12,
     "metadata": {},
     "output_type": "execute_result"
    },
    {
     "data": {
      "image/png": "[encoded data removed]",
      "text/plain": [
       "<Figure size 640x480 with 1 Axes>"
      ]
     },
     "metadata": {},
     "output_type": "display_data"
    }
   ],
   "source": [
    "dataset.plot()"
   ]
  },
  {
   "cell_type": "code",
   "execution_count": 13,
   "id": "cfccd356",
   "metadata": {},
   "outputs": [
    {
     "data": {
      "text/plain": [
       "ID                       1143\n",
       "class                       A\n",
       "gender                 female\n",
       "race                        2\n",
       "GPA                     74.56\n",
       "Algebra                    47\n",
       "Calculus1                  48\n",
       "Calculus2                  71\n",
       "Statistics                 60\n",
       "Probability                61\n",
       "Measure                    68\n",
       "Functional_analysis        64\n",
       "from1                       C\n",
       "from2                       A\n",
       "from3                       A\n",
       "from4                       0\n",
       "y                           1\n",
       "Name: 2, dtype: object"
      ]
     },
     "execution_count": 13,
     "metadata": {},
     "output_type": "execute_result"
    }
   ],
   "source": [
    "dataset.loc[2]"
   ]
  },
  {
   "cell_type": "code",
   "execution_count": 14,
   "id": "a65f3fb7",
   "metadata": {},
   "outputs": [
    {
     "data": {
      "text/plain": [
       "ID                       1142\n",
       "class                       A\n",
       "gender                 female\n",
       "race                        1\n",
       "GPA                     71.22\n",
       "Algebra                    57\n",
       "Calculus1                  50\n",
       "Calculus2                  51\n",
       "Statistics                 51\n",
       "Probability                55\n",
       "Measure                    62\n",
       "Functional_analysis        61\n",
       "from1                       B\n",
       "from2                       A\n",
       "from3                       A\n",
       "from4                       2\n",
       "y                           0\n",
       "Name: 1, dtype: object"
      ]
     },
     "execution_count": 14,
     "metadata": {},
     "output_type": "execute_result"
    }
   ],
   "source": [
    "dataset.loc[1]"
   ]
  },
  {
   "cell_type": "code",
   "execution_count": 15,
   "id": "043a2627",
   "metadata": {},
   "outputs": [
    {
     "data": {
      "text/plain": [
       "Index(['ID', 'class', 'gender', 'race', 'GPA', 'Algebra', 'Calculus1',\n",
       "       'Calculus2', 'Statistics', 'Probability', 'Measure',\n",
       "       'Functional_analysis', 'from1', 'from2', 'from3', 'from4', 'y'],\n",
       "      dtype='object')"
      ]
     },
     "execution_count": 15,
     "metadata": {},
     "output_type": "execute_result"
    }
   ],
   "source": [
    "dataset.columns"
   ]
  },
  {
   "cell_type": "code",
   "execution_count": 16,
   "id": "08a75197",
   "metadata": {},
   "outputs": [
    {
     "name": "stdout",
     "output_type": "stream",
     "text": [
      "0      False\n",
      "1      False\n",
      "2      False\n",
      "3      False\n",
      "4      False\n",
      "       ...  \n",
      "100    False\n",
      "101    False\n",
      "102    False\n",
      "103    False\n",
      "104    False\n",
      "Length: 105, dtype: bool\n"
     ]
    }
   ],
   "source": [
    "print(dataset.duplicated())"
   ]
  },
  {
   "cell_type": "code",
   "execution_count": 19,
   "id": "e9abbf84",
   "metadata": {},
   "outputs": [],
   "source": [
    "import numpy as np "
   ]
  },
  {
   "cell_type": "code",
   "execution_count": 20,
   "id": "a92c9a89",
   "metadata": {},
   "outputs": [
    {
     "name": "stdout",
     "output_type": "stream",
     "text": [
      "[2 4 5 8]\n"
     ]
    }
   ],
   "source": [
    "vrr =np.array([2,4,5,8])\n",
    "print(vrr)"
   ]
  },
  {
   "cell_type": "code",
   "execution_count": 21,
   "id": "c00d0e3d",
   "metadata": {},
   "outputs": [
    {
     "name": "stdout",
     "output_type": "stream",
     "text": [
      "1.21.5\n"
     ]
    }
   ],
   "source": [
    "print(np.__version__)"
   ]
  },
  {
   "cell_type": "code",
   "execution_count": 22,
   "id": "8bb5baec",
   "metadata": {},
   "outputs": [
    {
     "name": "stdout",
     "output_type": "stream",
     "text": [
      "1\n"
     ]
    }
   ],
   "source": [
    "print(vrr.ndim)"
   ]
  },
  {
   "cell_type": "code",
   "execution_count": 25,
   "id": "bb04684f",
   "metadata": {},
   "outputs": [
    {
     "name": "stdout",
     "output_type": "stream",
     "text": [
      "2\n"
     ]
    }
   ],
   "source": [
    "vrr= np.array([[3,4,5],[6,5,3]])\n",
    "print(vrr.ndim)"
   ]
  },
  {
   "cell_type": "code",
   "execution_count": 26,
   "id": "e8f27d1a",
   "metadata": {},
   "outputs": [
    {
     "data": {
      "text/plain": [
       "(2, 3)"
      ]
     },
     "execution_count": 26,
     "metadata": {},
     "output_type": "execute_result"
    }
   ],
   "source": [
    "vrr.shape"
   ]
  },
  {
   "cell_type": "code",
   "execution_count": 27,
   "id": "13e67eac",
   "metadata": {},
   "outputs": [
    {
     "data": {
      "text/plain": [
       "<function ndarray.reshape>"
      ]
     },
     "execution_count": 27,
     "metadata": {},
     "output_type": "execute_result"
    }
   ],
   "source": [
    "vrr.reshape"
   ]
  },
  {
   "cell_type": "code",
   "execution_count": 29,
   "id": "c510b781",
   "metadata": {},
   "outputs": [
    {
     "data": {
      "text/plain": [
       "dtype('int64')"
      ]
     },
     "execution_count": 29,
     "metadata": {},
     "output_type": "execute_result"
    }
   ],
   "source": [
    "vrr.dtype\n",
    "\n"
   ]
  },
  {
   "cell_type": "code",
   "execution_count": 30,
   "id": "301cf9a0",
   "metadata": {},
   "outputs": [
    {
     "name": "stdout",
     "output_type": "stream",
     "text": [
      "[3 4 5 6]\n"
     ]
    }
   ],
   "source": [
    "hh =np.array([3,4,5,6])\n",
    "print(hh)"
   ]
  },
  {
   "cell_type": "code",
   "execution_count": 31,
   "id": "e449292f",
   "metadata": {},
   "outputs": [
    {
     "data": {
      "text/plain": [
       "array([6, 7, 8, 9])"
      ]
     },
     "execution_count": 31,
     "metadata": {},
     "output_type": "execute_result"
    }
   ],
   "source": [
    "hh+3"
   ]
  },
  {
   "cell_type": "code",
   "execution_count": 32,
   "id": "128e641c",
   "metadata": {},
   "outputs": [
    {
     "data": {
      "text/plain": [
       "array([ 6,  8, 10, 12])"
      ]
     },
     "execution_count": 32,
     "metadata": {},
     "output_type": "execute_result"
    }
   ],
   "source": [
    "hh*2"
   ]
  },
  {
   "cell_type": "code",
   "execution_count": 33,
   "id": "d91e1904",
   "metadata": {},
   "outputs": [
    {
     "name": "stdout",
     "output_type": "stream",
     "text": [
      "[3 6 7 9]\n"
     ]
    }
   ],
   "source": [
    "jj =np.array([3,6,7,9])\n",
    "print(jj)"
   ]
  },
  {
   "cell_type": "code",
   "execution_count": 34,
   "id": "117e11ea",
   "metadata": {},
   "outputs": [
    {
     "data": {
      "text/plain": [
       "array([ 9, 24, 35, 54])"
      ]
     },
     "execution_count": 34,
     "metadata": {},
     "output_type": "execute_result"
    }
   ],
   "source": [
    "hh*jj"
   ]
  },
  {
   "cell_type": "code",
   "execution_count": 35,
   "id": "00b956c4",
   "metadata": {},
   "outputs": [],
   "source": [
    "import random "
   ]
  },
  {
   "cell_type": "code",
   "execution_count": 37,
   "id": "3efe9dd5",
   "metadata": {},
   "outputs": [
    {
     "name": "stdout",
     "output_type": "stream",
     "text": [
      "[44 29 39]\n"
     ]
    }
   ],
   "source": [
    "a = np.random.randint(12,45,3)\n",
    "print(a)"
   ]
  },
  {
   "cell_type": "code",
   "execution_count": 44,
   "id": "d629bae8",
   "metadata": {},
   "outputs": [
    {
     "name": "stdout",
     "output_type": "stream",
     "text": [
      "[23 39 18]\n"
     ]
    }
   ],
   "source": [
    "np.random.seed(12)\n",
    "a =np.random.randint(12,45,3)\n",
    "print(a)"
   ]
  },
  {
   "cell_type": "code",
   "execution_count": null,
   "id": "01851880",
   "metadata": {},
   "outputs": [],
   "source": []
  }
 ],
 "metadata": {
  "kernelspec": {
   "display_name": "Python 3 (ipykernel)",
   "language": "python",
   "name": "python3"
  },
  "language_info": {
   "codemirror_mode": {
    "name": "ipython",
    "version": 3
   },
   "file_extension": ".py",
   "mimetype": "text/x-python",
   "name": "python",
   "nbconvert_exporter": "python",
   "pygments_lexer": "ipython3",
   "version": "3.9.13"
  }
 },
 "nbformat": 4,
 "nbformat_minor": 5
}
